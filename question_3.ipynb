{
 "cells": [
  {
   "cell_type": "code",
   "execution_count": 1,
   "id": "3a8c7549",
   "metadata": {},
   "outputs": [],
   "source": [
    "import numpy as np\n",
    "from scipy.stats import linregress\n",
    "import matplotlib.pyplot as plt\n",
    "from astropy.table import Table\n",
    "from matplotlib.colors import LogNorm"
   ]
  },
  {
   "cell_type": "code",
   "execution_count": 2,
   "id": "189bae38",
   "metadata": {},
   "outputs": [
    {
     "data": {
      "text/html": [
       "<div>\n",
       "<style scoped>\n",
       "    .dataframe tbody tr th:only-of-type {\n",
       "        vertical-align: middle;\n",
       "    }\n",
       "\n",
       "    .dataframe tbody tr th {\n",
       "        vertical-align: top;\n",
       "    }\n",
       "\n",
       "    .dataframe thead th {\n",
       "        text-align: right;\n",
       "    }\n",
       "</style>\n",
       "<table border=\"1\" class=\"dataframe\">\n",
       "  <thead>\n",
       "    <tr style=\"text-align: right;\">\n",
       "      <th></th>\n",
       "      <th>x</th>\n",
       "      <th>y</th>\n",
       "      <th>z</th>\n",
       "      <th>A_O</th>\n",
       "    </tr>\n",
       "  </thead>\n",
       "  <tbody>\n",
       "    <tr>\n",
       "      <th>0</th>\n",
       "      <td>10.020546</td>\n",
       "      <td>-15.421509</td>\n",
       "      <td>-3.241711</td>\n",
       "      <td>8.428943</td>\n",
       "    </tr>\n",
       "    <tr>\n",
       "      <th>1</th>\n",
       "      <td>-13.487837</td>\n",
       "      <td>5.663507</td>\n",
       "      <td>-0.802306</td>\n",
       "      <td>8.671107</td>\n",
       "    </tr>\n",
       "    <tr>\n",
       "      <th>2</th>\n",
       "      <td>6.642289</td>\n",
       "      <td>-0.138942</td>\n",
       "      <td>-0.585961</td>\n",
       "      <td>8.891596</td>\n",
       "    </tr>\n",
       "    <tr>\n",
       "      <th>3</th>\n",
       "      <td>0.203939</td>\n",
       "      <td>4.112373</td>\n",
       "      <td>-0.147622</td>\n",
       "      <td>8.977195</td>\n",
       "    </tr>\n",
       "    <tr>\n",
       "      <th>4</th>\n",
       "      <td>-20.824045</td>\n",
       "      <td>6.971037</td>\n",
       "      <td>-1.758061</td>\n",
       "      <td>8.326950</td>\n",
       "    </tr>\n",
       "  </tbody>\n",
       "</table>\n",
       "</div>"
      ],
      "text/plain": [
       "           x          y         z       A_O\n",
       "0  10.020546 -15.421509 -3.241711  8.428943\n",
       "1 -13.487837   5.663507 -0.802306  8.671107\n",
       "2   6.642289  -0.138942 -0.585961  8.891596\n",
       "3   0.203939   4.112373 -0.147622  8.977195\n",
       "4 -20.824045   6.971037 -1.758061  8.326950"
      ]
     },
     "metadata": {},
     "output_type": "display_data"
    }
   ],
   "source": [
    "#Read in data\n",
    "data = Table.read(\"data/nihao_uhd_simulation_g8.26e11_xyz_positions_and_oxygen_ao.fits\")\n",
    "display(data.to_pandas().head())"
   ]
  },
  {
   "cell_type": "code",
   "execution_count": 21,
   "id": "f85910d9",
   "metadata": {},
   "outputs": [],
   "source": [
    "# Create radius column\n",
    "# data[\"r\"] = np.sqrt(data[\"x\"]**2 + data[\"y\"]**2 + data[\"z\"]**2)\n",
    "data[\"r\"] = np.sqrt(data[\"x\"]**2 + data[\"y\"]**2)"
   ]
  },
  {
   "cell_type": "code",
   "execution_count": 57,
   "id": "e0408d40",
   "metadata": {},
   "outputs": [
    {
     "name": "stdout",
     "output_type": "stream",
     "text": [
      "LinregressResult(slope=-0.03419647244360147, intercept=9.127839345362716, rvalue=-0.9552693175922453, pvalue=0.0, stderr=1.4802363801498309e-05, intercept_stderr=0.00023227643278613057)\n",
      "R^2 = 0.9125394691331541\n"
     ]
    }
   ],
   "source": [
    "#Perform linear fit\n",
    "fit = linregress(data[\"r\"], data[\"A_O\"])\n",
    "AO_fit = fit.slope*data[\"r\"] + fit.intercept\n",
    "residual = data[\"A_O\"] - AO_fit\n",
    "print(fit)\n",
    "print(\"R^2 =\", fit.rvalue**2)"
   ]
  },
  {
   "cell_type": "code",
   "execution_count": null,
   "id": "adb07c5e",
   "metadata": {},
   "outputs": [],
   "source": [
    "# Set up figure\n",
    "fig,axs = plt.subplots(1, 2, figsize=(16,6))\n",
    "ax1 = axs[0]\n",
    "ax2 = axs[1]\n",
    "\n",
    "# 2d Histogram of A(O) vs R\n",
    "hist, x, y, mesh = ax1.hist2d(data[\"r\"], data[\"A_O\"], bins=100, density=True, cmap=\"plasma\", norm=LogNorm())\n",
    "\n",
    "ax1.plot(data[\"r\"], AO_fit, color=\"cyan\")\n",
    "plt.colorbar(mesh, ax=ax1, label=\"Point density\")\n",
    "ax1.set_xlabel(\"$R_{gal}$ (kpc)\")\n",
    "ax1.set_ylabel(\"Gas phase metallicity A(O)\")\n",
    "ax1.legend([f\"A(O) = {fit.slope:.5f}\" + \"$R_{gal}$\" + f\" +{fit.intercept:.4f}\"])\n",
    "\n",
    "# 2d Histogram of residuals\n",
    "hist, x, y, mesh2 = ax2.hist2d(data[\"r\"], residual, bins=100, density=True, cmap=\"copper\", norm=LogNorm())\n",
    "ax2.hlines(0, 0, max(data[\"r\"]), color=\"red\", label=\"$\\Delta$A(O) = 0\")\n",
    "\n",
    "plt.colorbar(mesh2, ax=ax2, label=\"Point density\")\n",
    "ax2.set_xlabel(\"$R_{gal}$ (kpc)\")\n",
    "ax2.set_ylabel(\"Residuals $\\Delta$A(O)\")\n",
    "ax2.legend()\n",
    "\n",
    "plt.savefig(\"figures/q3_AOfit.png\", dpi=200, bbox_inches=\"tight\")\n",
    "\n",
    "plt.show()"
   ]
  },
  {
   "cell_type": "markdown",
   "id": "01f712fc",
   "metadata": {},
   "source": [
    "The simple linear fit gives us fitting parameters of \n",
    "$$A(O) = (-0.03420 \\pm 0.00002)R_{gal} + (9.1278 \\pm 0.0002)$$\n",
    "with no hyperparameters. The correlation coefficient is $R^2 = 0.9125$ and the p-value is reported as 0.0 (i.e. too small for double precision numbers). The small p-value implies that there is a high likelihood for a fundamental relationship existing, and the $R^2$ value shows a convincing but not perfect fit. Visually, the residual plot shows that the scatter increases over radius. The RMS can be used to quantify this increasing scatter over radius, using the below plot."
   ]
  },
  {
   "cell_type": "code",
   "execution_count": 63,
   "id": "285280a7",
   "metadata": {},
   "outputs": [
    {
     "data": {
      "image/png": "[encoded data removed]",
      "text/plain": [
       "<Figure size 640x480 with 1 Axes>"
      ]
     },
     "metadata": {},
     "output_type": "display_data"
    }
   ],
   "source": [
    "for i in np.linspace(0.01+min(data[\"r\"]), max(data[\"r\"]), 100):\n",
    "    plt.scatter(i, np.sqrt(np.mean(residual[data[\"r\"]<i]**2)), color=\"blue\")\n",
    "\n",
    "plt.xlabel(\"$R_{gal}$ (kpc)\")\n",
    "plt.ylabel(\"RMS residual\")\n",
    "\n",
    "plt.show()"
   ]
  },
  {
   "cell_type": "markdown",
   "id": "00811e51",
   "metadata": {},
   "source": [
    "The RMS starts at ~0.03 for low radii and increases to ~0.07 near the end. This means A(O) can be safely determined down to one decimal point from the fit."
   ]
  },
  {
   "cell_type": "code",
   "execution_count": null,
   "id": "ee7552f0",
   "metadata": {},
   "outputs": [],
   "source": []
  }
 ],
 "metadata": {
  "kernelspec": {
   "display_name": "base",
   "language": "python",
   "name": "python3"
  },
  "language_info": {
   "codemirror_mode": {
    "name": "ipython",
    "version": 3
   },
   "file_extension": ".py",
   "mimetype": "text/x-python",
   "name": "python",
   "nbconvert_exporter": "python",
   "pygments_lexer": "ipython3",
   "version": "3.9.13"
  }
 },
 "nbformat": 4,
 "nbformat_minor": 5
}
