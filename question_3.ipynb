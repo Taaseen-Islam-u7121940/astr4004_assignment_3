{
 "cells": [
  {
   "cell_type": "markdown",
   "id": "58d9b1ca",
   "metadata": {},
   "source": [
    "Here's another cookie 🌚"
   ]
  }
 ],
 "metadata": {
  "language_info": {
   "name": "python"
  }
 },
 "nbformat": 4,
 "nbformat_minor": 5
}
