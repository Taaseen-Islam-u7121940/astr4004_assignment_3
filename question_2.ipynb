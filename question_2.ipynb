{
 "cells": [
  {
   "cell_type": "markdown",
   "id": "d031b20f",
   "metadata": {},
   "source": [
    "# Question 2\n",
    "### Working with ADQL"
   ]
  },
  {
   "cell_type": "code",
   "execution_count": 2,
   "id": "63a4cbc7",
   "metadata": {},
   "outputs": [],
   "source": [
    "# Basic imports\n",
    "import numpy as np\n",
    "import matplotlib.pyplot as plt\n",
    "\n",
    "from astropy.table import Table"
   ]
  },
  {
   "cell_type": "code",
   "execution_count": 4,
   "id": "ee39a76e",
   "metadata": {},
   "outputs": [],
   "source": [
    "# Download the GAIA Data\n",
    "from astroquery.gaia import Gaia"
   ]
  },
  {
   "cell_type": "markdown",
   "id": "56c952e6",
   "metadata": {},
   "source": [
    "From the Gaia/2MASS Tables, we need:\n",
    "- Gaia BP-RP\n",
    "- Gaia absolute g\n",
    "- 2Mass J-Ks\n",
    "- 2Mass Apparent H"
   ]
  },
  {
   "cell_type": "code",
   "execution_count": 101,
   "id": "c7089117",
   "metadata": {},
   "outputs": [
    {
     "name": "stdout",
     "output_type": "stream",
     "text": [
      "INFO: Query finished. [astroquery.utils.tap.core]\n"
     ]
    },
    {
     "data": {
      "text/html": [
       "<div>\n",
       "<style scoped>\n",
       "    .dataframe tbody tr th:only-of-type {\n",
       "        vertical-align: middle;\n",
       "    }\n",
       "\n",
       "    .dataframe tbody tr th {\n",
       "        vertical-align: top;\n",
       "    }\n",
       "\n",
       "    .dataframe thead th {\n",
       "        text-align: right;\n",
       "    }\n",
       "</style>\n",
       "<table border=\"1\" class=\"dataframe\">\n",
       "  <thead>\n",
       "    <tr style=\"text-align: right;\">\n",
       "      <th></th>\n",
       "      <th>source_id</th>\n",
       "      <th>ra</th>\n",
       "      <th>dec</th>\n",
       "      <th>parallax</th>\n",
       "      <th>phot_g_mean_mag</th>\n",
       "      <th>bp_rp</th>\n",
       "      <th>j_m</th>\n",
       "      <th>ks_m</th>\n",
       "      <th>h_m</th>\n",
       "    </tr>\n",
       "  </thead>\n",
       "  <tbody>\n",
       "    <tr>\n",
       "      <th>0</th>\n",
       "      <td>4088892600474423808</td>\n",
       "      <td>288.225913</td>\n",
       "      <td>-15.744217</td>\n",
       "      <td>0.624552</td>\n",
       "      <td>11.983528</td>\n",
       "      <td>1.559996</td>\n",
       "      <td>10.017</td>\n",
       "      <td>9.218</td>\n",
       "      <td>9.410</td>\n",
       "    </tr>\n",
       "    <tr>\n",
       "      <th>1</th>\n",
       "      <td>4088893154546972672</td>\n",
       "      <td>288.271283</td>\n",
       "      <td>-15.709582</td>\n",
       "      <td>0.454480</td>\n",
       "      <td>12.048648</td>\n",
       "      <td>1.703223</td>\n",
       "      <td>9.941</td>\n",
       "      <td>9.005</td>\n",
       "      <td>9.188</td>\n",
       "    </tr>\n",
       "    <tr>\n",
       "      <th>2</th>\n",
       "      <td>4088893188906716032</td>\n",
       "      <td>288.254396</td>\n",
       "      <td>-15.713978</td>\n",
       "      <td>0.211160</td>\n",
       "      <td>12.808913</td>\n",
       "      <td>1.847858</td>\n",
       "      <td>10.526</td>\n",
       "      <td>9.503</td>\n",
       "      <td>9.733</td>\n",
       "    </tr>\n",
       "    <tr>\n",
       "      <th>3</th>\n",
       "      <td>4087815667506086656</td>\n",
       "      <td>288.512276</td>\n",
       "      <td>-16.874361</td>\n",
       "      <td>0.092825</td>\n",
       "      <td>12.800300</td>\n",
       "      <td>1.850592</td>\n",
       "      <td>10.501</td>\n",
       "      <td>9.492</td>\n",
       "      <td>9.710</td>\n",
       "    </tr>\n",
       "    <tr>\n",
       "      <th>4</th>\n",
       "      <td>4087815697559746304</td>\n",
       "      <td>288.520970</td>\n",
       "      <td>-16.874898</td>\n",
       "      <td>0.366892</td>\n",
       "      <td>11.617373</td>\n",
       "      <td>3.226758</td>\n",
       "      <td>8.277</td>\n",
       "      <td>7.032</td>\n",
       "      <td>7.314</td>\n",
       "    </tr>\n",
       "  </tbody>\n",
       "</table>\n",
       "</div>"
      ],
      "text/plain": [
       "             source_id          ra        dec  parallax  phot_g_mean_mag  \\\n",
       "0  4088892600474423808  288.225913 -15.744217  0.624552        11.983528   \n",
       "1  4088893154546972672  288.271283 -15.709582  0.454480        12.048648   \n",
       "2  4088893188906716032  288.254396 -15.713978  0.211160        12.808913   \n",
       "3  4087815667506086656  288.512276 -16.874361  0.092825        12.800300   \n",
       "4  4087815697559746304  288.520970 -16.874898  0.366892        11.617373   \n",
       "\n",
       "      bp_rp     j_m   ks_m    h_m  \n",
       "0  1.559996  10.017  9.218  9.410  \n",
       "1  1.703223   9.941  9.005  9.188  \n",
       "2  1.847858  10.526  9.503  9.733  \n",
       "3  1.850592  10.501  9.492  9.710  \n",
       "4  3.226758   8.277  7.032  7.314  "
      ]
     },
     "metadata": {},
     "output_type": "display_data"
    },
    {
     "name": "stdout",
     "output_type": "stream",
     "text": [
      "Dataframe has shape (3637, 9)\n"
     ]
    }
   ],
   "source": [
    "# Select relevant columns and join with the 2Mass table. Constrain ra/dec to\n",
    "# a 1 degree circle from Ruprecht 147\n",
    "query = \"\"\"\n",
    "SELECT gaia.source_id, gaia.ra, gaia.dec, gaia.parallax, gaia.phot_g_mean_mag, \n",
    "gaia.bp_rp, tmass.j_m, tmass.ks_m, tmass.h_m\n",
    "FROM gaiadr3.gaia_source AS gaia\n",
    "JOIN gaiadr3.tmass_psc_xsc_best_neighbour AS xmatch USING (source_id)\n",
    "JOIN gaiadr3.tmass_psc_xsc_join AS xjoin USING (clean_tmass_psc_xsc_oid)\n",
    "JOIN gaiadr1.tmass_original_valid AS tmass ON\n",
    "   xjoin.original_psc_source_id = tmass.designation\n",
    "WHERE phot_g_mean_mag < 14\n",
    "   AND CONTAINS(\n",
    "     POINT('ICRS', gaia.ra, gaia.dec),\n",
    "     CIRCLE('ICRS', 289.074, -16.323, 1.0)\n",
    "   ) = 1;\n",
    "\"\"\"\n",
    "job = Gaia.launch_job_async(query)\n",
    "result = job.get_results()\n",
    "df = result.to_pandas()\n",
    "display(df.head())\n",
    "print(\"Dataframe has shape\", df.shape)\n"
   ]
  },
  {
   "cell_type": "code",
   "execution_count": 102,
   "id": "6ac5a453",
   "metadata": {},
   "outputs": [
    {
     "name": "stderr",
     "output_type": "stream",
     "text": [
      "c:\\Users\\taase\\anaconda3\\lib\\site-packages\\pandas\\core\\arraylike.py:397: RuntimeWarning: invalid value encountered in log10\n",
      "  result = getattr(ufunc, method)(*inputs, **kwargs)\n"
     ]
    }
   ],
   "source": [
    "# Manipulate column names to be easier to work with, and add absolute g magnitude\n",
    "df.columns = [\"ID\", \"RA\", \"DEC\", \"parallax\", \"g_m\", \"bp_rp\", \"j_m\", \"ks_m\", \"h_m\"]\n",
    "df[\"g_M\"] = df[\"g_m\"]+5*np.log10(df[\"parallax\"]/1000)+5"
   ]
  },
  {
   "cell_type": "code",
   "execution_count": null,
   "id": "ebb82448",
   "metadata": {},
   "outputs": [],
   "source": []
  }
 ],
 "metadata": {
  "kernelspec": {
   "display_name": "base",
   "language": "python",
   "name": "python3"
  },
  "language_info": {
   "codemirror_mode": {
    "name": "ipython",
    "version": 3
   },
   "file_extension": ".py",
   "mimetype": "text/x-python",
   "name": "python",
   "nbconvert_exporter": "python",
   "pygments_lexer": "ipython3",
   "version": "3.9.13"
  }
 },
 "nbformat": 4,
 "nbformat_minor": 5
}
