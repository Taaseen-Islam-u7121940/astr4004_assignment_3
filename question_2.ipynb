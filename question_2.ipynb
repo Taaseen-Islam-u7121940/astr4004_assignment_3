{
 "cells": [
  {
   "cell_type": "markdown",
   "id": "f245974e",
   "metadata": {},
   "source": [
    "I ate the cookie sorry :("
   ]
  }
 ],
 "metadata": {
  "language_info": {
   "name": "python"
  }
 },
 "nbformat": 4,
 "nbformat_minor": 5
}
